{
 "cells": [
  {
   "cell_type": "markdown",
   "metadata": {},
   "source": [
    "# U.S. Medical Insurance Costs"
   ]
  },
  {
   "cell_type": "code",
   "execution_count": 1,
   "metadata": {},
   "outputs": [],
   "source": [
    "# Using data from the insurance sheet I will attempt to analyze it and display useful information from it\n",
    "\n",
    "\n"
   ]
  },
  {
   "cell_type": "code",
   "execution_count": 28,
   "metadata": {},
   "outputs": [
    {
     "name": "stdout",
     "output_type": "stream",
     "text": [
      "      age     sex     bmi  children smoker     region      charges\n",
      "0      19  female  27.900         0    yes  southwest  16884.92400\n",
      "1      18    male  33.770         1     no  southeast   1725.55230\n",
      "2      28    male  33.000         3     no  southeast   4449.46200\n",
      "3      33    male  22.705         0     no  northwest  21984.47061\n",
      "4      32    male  28.880         0     no  northwest   3866.85520\n",
      "...   ...     ...     ...       ...    ...        ...          ...\n",
      "1333   50    male  30.970         3     no  northwest  10600.54830\n",
      "1334   18  female  31.920         0     no  northeast   2205.98080\n",
      "1335   18  female  36.850         0     no  southeast   1629.83350\n",
      "1336   21  female  25.800         0     no  southwest   2007.94500\n",
      "1337   61  female  29.070         0    yes  northwest  29141.36030\n",
      "\n",
      "[1338 rows x 7 columns]\n"
     ]
    }
   ],
   "source": [
    "import pandas as pd\n",
    "\n",
    "insurance = pd.read_csv(r'C:\\Users\\mcrae\\OneDrive\\Desktop\\insurance.csv')\n",
    "\n",
    "print(insurance)"
   ]
  },
  {
   "cell_type": "code",
   "execution_count": 29,
   "metadata": {},
   "outputs": [],
   "source": [
    "## Save all rows into variables that can be accessed\n",
    "\n",
    "age = insurance[\"age\"]\n",
    "sex = insurance[\"sex\"]\n",
    "bmi = insurance[\"bmi\"]\n",
    "children = insurance[\"children\"]\n",
    "smoker = insurance[\"smoker\"]\n",
    "region = insurance[\"region\"]\n",
    "charges = insurance[\"charges\"]\n",
    "\n",
    "\n"
   ]
  },
  {
   "cell_type": "code",
   "execution_count": 30,
   "metadata": {},
   "outputs": [
    {
     "name": "stdout",
     "output_type": "stream",
     "text": [
      "[{'southeast', 'northeast', 'southwest', 'northwest'}]\n"
     ]
    }
   ],
   "source": [
    "diff_regions = [set(region)]\n",
    "\n",
    "print(diff_regions)\n",
    "\n",
    "\n",
    "\n",
    "\n",
    "\n"
   ]
  },
  {
   "cell_type": "code",
   "execution_count": 31,
   "metadata": {},
   "outputs": [
    {
     "name": "stdout",
     "output_type": "stream",
     "text": [
      "smoker\n",
      "no     39.385338\n",
      "yes    38.514599\n",
      "Name: age, dtype: float64\n"
     ]
    }
   ],
   "source": [
    "# what is the average age of smokers?\n",
    "avg_smoker = insurance.groupby('smoker')['age'].mean()\n",
    "\n",
    "print(avg_smoker)"
   ]
  },
  {
   "cell_type": "code",
   "execution_count": 32,
   "metadata": {},
   "outputs": [
    {
     "name": "stdout",
     "output_type": "stream",
     "text": [
      "The Mean age of smokers is 38.51.\n"
     ]
    }
   ],
   "source": [
    "#checking my work using a different method\n",
    "is_smoker = insurance['smoker'] == 'yes'\n",
    "mean_age = insurance.loc[is_smoker, 'age'].mean()\n",
    "\n",
    "print(\"The Mean age of smokers is %.2f.\" % mean_age)"
   ]
  },
  {
   "cell_type": "code",
   "execution_count": 33,
   "metadata": {},
   "outputs": [
    {
     "name": "stdout",
     "output_type": "stream",
     "text": [
      "The average charge for the North West Region = 12417.58\n",
      "The average charge for the North East Region = 13406.38\n",
      "The average charge for the South West Region = 12346.94\n",
      "The average charge for the South East Region = 14735.41\n"
     ]
    }
   ],
   "source": [
    "# finding out the average charge per region and the max charge per region\n",
    "\n",
    "is_northwest = insurance['region'] == \"northwest\"\n",
    "is_northeast = insurance['region'] == \"northeast\"\n",
    "is_southwest = insurance['region'] == \"southwest\"\n",
    "is_southeast = insurance['region'] == \"southeast\"\n",
    "\n",
    "avg_charge_nw = insurance.loc[is_northwest, 'charges'].mean()\n",
    "avg_charge_ne = insurance.loc[is_northeast, 'charges'].mean()\n",
    "avg_charge_sw = insurance.loc[is_southwest, 'charges'].mean()\n",
    "avg_charge_se = insurance.loc[is_southeast, 'charges'].mean()\n",
    "\n",
    "print(\"The average charge for the North West Region = %.2f\" % avg_charge_nw)\n",
    "print(\"The average charge for the North East Region = %.2f\" % avg_charge_ne)\n",
    "print(\"The average charge for the South West Region = %.2f\" % avg_charge_sw)\n",
    "print(\"The average charge for the South East Region = %.2f\" % avg_charge_se )"
   ]
  },
  {
   "cell_type": "code",
   "execution_count": 48,
   "metadata": {},
   "outputs": [
    {
     "name": "stdout",
     "output_type": "stream",
     "text": [
      "nan\n",
      "13270.42\n"
     ]
    }
   ],
   "source": [
    "is_smoker = insurance['smoker'] == 'yes'\n",
    "not_smoker = insurance['smoker'] == 'no'\n",
    "a_is_smoker = insurance.loc[is_smoker, 'charges'].mean()\n",
    "a_not_smoker = insurance.loc[not_smoker, 'charges'].mean()\n",
    "\n",
    "print(a_is_smoker)\n",
    "print((round(a_not_smoker,2)))"
   ]
  },
  {
   "cell_type": "code",
   "execution_count": null,
   "metadata": {},
   "outputs": [],
   "source": [
    "#not sure why I recieved a nan, the data set was not supposed to have any missing values."
   ]
  }
 ],
 "metadata": {
  "kernelspec": {
   "display_name": "Python 3 (ipykernel)",
   "language": "python",
   "name": "python3"
  },
  "language_info": {
   "codemirror_mode": {
    "name": "ipython",
    "version": 3
   },
   "file_extension": ".py",
   "mimetype": "text/x-python",
   "name": "python",
   "nbconvert_exporter": "python",
   "pygments_lexer": "ipython3",
   "version": "3.9.13"
  }
 },
 "nbformat": 4,
 "nbformat_minor": 4
}
